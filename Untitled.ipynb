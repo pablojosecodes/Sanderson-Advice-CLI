{
 "cells": [
  {
   "cell_type": "code",
   "execution_count": 109,
   "id": "44717fc9",
   "metadata": {},
   "outputs": [],
   "source": [
    "import json\n",
    "import openai"
   ]
  },
  {
   "cell_type": "code",
   "execution_count": 110,
   "id": "3e85ab45",
   "metadata": {},
   "outputs": [],
   "source": [
    "timestamps = open('correctTimeStamps.txt')\n",
    "transcripts = open('SandersonTranscripts.json')"
   ]
  },
  {
   "cell_type": "code",
   "execution_count": 111,
   "id": "cc2ea6bd",
   "metadata": {},
   "outputs": [],
   "source": [
    "time = (timestamps.readlines())"
   ]
  },
  {
   "cell_type": "markdown",
   "id": "7cab2a34",
   "metadata": {},
   "source": [
    "print(dct)"
   ]
  },
  {
   "cell_type": "code",
   "execution_count": 30,
   "id": "1a322fb2",
   "metadata": {},
   "outputs": [],
   "source": [
    "dct = {}\n",
    "x = 0\n",
    "arr = []\n",
    "for i in range(len(time)):\n",
    "    print(time[i])\n",
    "    \n",
    "    if str(x) == time[i]:\n",
    "        dct[x]=arr\n",
    "        arr = []\n",
    "        x = x + 1\n",
    "        continue\n",
    "    if len(time[i]) > 2:\n",
    "        arr.append((time[i], time[i+2]))\n",
    "        i = i+3\n"
   ]
  },
  {
   "cell_type": "code",
   "execution_count": 112,
   "id": "88b20ad7",
   "metadata": {},
   "outputs": [],
   "source": [
    "def transcribeAccurateTimestamps():\n",
    "    dct = {}\n",
    "    x = 0\n",
    "    arr = []\n",
    "    seen = False\n",
    "    for i in range(len(time)):\n",
    "\n",
    "        if str(x) == str(time[i]).strip():\n",
    "            dct[x]=arr\n",
    "            arr = []\n",
    "            x = x + 1\n",
    "            continue\n",
    "        if len(time[i]) > 2 and not time[i][0:1].isdigit() and i + 1 < len(time):\n",
    "            arr.append((time[i+2].strip(), time[i].strip()))\n",
    "            i = i + 2\n",
    "    dct[x]=arr\n",
    "    return dct"
   ]
  },
  {
   "cell_type": "code",
   "execution_count": null,
   "id": "fa201867",
   "metadata": {},
   "outputs": [],
   "source": []
  },
  {
   "cell_type": "code",
   "execution_count": 113,
   "id": "98bdf706",
   "metadata": {},
   "outputs": [],
   "source": [
    "with open('timestamps.json', 'w') as f:\n",
    "    json.dump(transcribeAccurateTimestamps(), f)"
   ]
  },
  {
   "cell_type": "code",
   "execution_count": null,
   "id": "e1c887a0",
   "metadata": {},
   "outputs": [],
   "source": []
  }
 ],
 "metadata": {
  "kernelspec": {
   "display_name": "venv",
   "language": "python",
   "name": "venv"
  },
  "language_info": {
   "codemirror_mode": {
    "name": "ipython",
    "version": 3
   },
   "file_extension": ".py",
   "mimetype": "text/x-python",
   "name": "python",
   "nbconvert_exporter": "python",
   "pygments_lexer": "ipython3",
   "version": "3.10.9"
  }
 },
 "nbformat": 4,
 "nbformat_minor": 5
}
